{
 "cells": [
  {
   "cell_type": "code",
   "execution_count": 13,
   "id": "8c4c5bda",
   "metadata": {},
   "outputs": [
    {
     "name": "stdout",
     "output_type": "stream",
     "text": [
      "Requirement already satisfied: trl==0.8.6 in c:\\users\\tom\\appdata\\local\\programs\\python\\python312\\lib\\site-packages (0.8.6)\n",
      "Requirement already satisfied: transformers in c:\\users\\tom\\appdata\\local\\programs\\python\\python312\\lib\\site-packages (4.53.2)\n",
      "Requirement already satisfied: accelerate==0.32.0 in c:\\users\\tom\\appdata\\local\\programs\\python\\python312\\lib\\site-packages (0.32.0)\n",
      "Requirement already satisfied: peft in c:\\users\\tom\\appdata\\local\\programs\\python\\python312\\lib\\site-packages (0.16.0)\n",
      "Requirement already satisfied: torch>=1.4.0 in c:\\users\\tom\\appdata\\local\\programs\\python\\python312\\lib\\site-packages (from trl==0.8.6) (2.5.1+cu121)\n",
      "Requirement already satisfied: numpy>=1.18.2 in c:\\users\\tom\\appdata\\local\\programs\\python\\python312\\lib\\site-packages (from trl==0.8.6) (1.26.4)\n",
      "Requirement already satisfied: datasets in c:\\users\\tom\\appdata\\local\\programs\\python\\python312\\lib\\site-packages (from trl==0.8.6) (2.15.0)\n",
      "Requirement already satisfied: tyro>=0.5.11 in c:\\users\\tom\\appdata\\local\\programs\\python\\python312\\lib\\site-packages (from trl==0.8.6) (0.9.26)\n",
      "Requirement already satisfied: packaging>=20.0 in c:\\users\\tom\\appdata\\local\\programs\\python\\python312\\lib\\site-packages (from accelerate==0.32.0) (24.2)\n",
      "Requirement already satisfied: psutil in c:\\users\\tom\\appdata\\roaming\\python\\python312\\site-packages (from accelerate==0.32.0) (7.0.0)\n",
      "Requirement already satisfied: pyyaml in c:\\users\\tom\\appdata\\local\\programs\\python\\python312\\lib\\site-packages (from accelerate==0.32.0) (6.0.2)\n",
      "Requirement already satisfied: huggingface-hub in c:\\users\\tom\\appdata\\local\\programs\\python\\python312\\lib\\site-packages (from accelerate==0.32.0) (0.33.4)\n",
      "Requirement already satisfied: safetensors>=0.3.1 in c:\\users\\tom\\appdata\\local\\programs\\python\\python312\\lib\\site-packages (from accelerate==0.32.0) (0.5.3)\n",
      "Requirement already satisfied: filelock in c:\\users\\tom\\appdata\\local\\programs\\python\\python312\\lib\\site-packages (from transformers) (3.18.0)\n",
      "Requirement already satisfied: regex!=2019.12.17 in c:\\users\\tom\\appdata\\local\\programs\\python\\python312\\lib\\site-packages (from transformers) (2024.11.6)\n",
      "Requirement already satisfied: requests in c:\\users\\tom\\appdata\\local\\programs\\python\\python312\\lib\\site-packages (from transformers) (2.32.4)\n",
      "Requirement already satisfied: tokenizers<0.22,>=0.21 in c:\\users\\tom\\appdata\\local\\programs\\python\\python312\\lib\\site-packages (from transformers) (0.21.2)\n",
      "Requirement already satisfied: tqdm>=4.27 in c:\\users\\tom\\appdata\\local\\programs\\python\\python312\\lib\\site-packages (from transformers) (4.67.1)\n",
      "Requirement already satisfied: fsspec>=2023.5.0 in c:\\users\\tom\\appdata\\local\\programs\\python\\python312\\lib\\site-packages (from huggingface-hub->accelerate==0.32.0) (2023.10.0)\n",
      "Requirement already satisfied: typing-extensions>=3.7.4.3 in c:\\users\\tom\\appdata\\local\\programs\\python\\python312\\lib\\site-packages (from huggingface-hub->accelerate==0.32.0) (4.14.0)\n",
      "Requirement already satisfied: networkx in c:\\users\\tom\\appdata\\local\\programs\\python\\python312\\lib\\site-packages (from torch>=1.4.0->trl==0.8.6) (3.5)\n",
      "Requirement already satisfied: jinja2 in c:\\users\\tom\\appdata\\local\\programs\\python\\python312\\lib\\site-packages (from torch>=1.4.0->trl==0.8.6) (3.1.6)\n",
      "Requirement already satisfied: setuptools in c:\\users\\tom\\appdata\\local\\programs\\python\\python312\\lib\\site-packages (from torch>=1.4.0->trl==0.8.6) (80.9.0)\n",
      "Requirement already satisfied: sympy==1.13.1 in c:\\users\\tom\\appdata\\local\\programs\\python\\python312\\lib\\site-packages (from torch>=1.4.0->trl==0.8.6) (1.13.1)\n",
      "Requirement already satisfied: mpmath<1.4,>=1.1.0 in c:\\users\\tom\\appdata\\local\\programs\\python\\python312\\lib\\site-packages (from sympy==1.13.1->torch>=1.4.0->trl==0.8.6) (1.3.0)\n",
      "Requirement already satisfied: colorama in c:\\users\\tom\\appdata\\local\\programs\\python\\python312\\lib\\site-packages (from tqdm>=4.27->transformers) (0.4.6)\n",
      "Requirement already satisfied: docstring-parser>=0.15 in c:\\users\\tom\\appdata\\local\\programs\\python\\python312\\lib\\site-packages (from tyro>=0.5.11->trl==0.8.6) (0.16)\n",
      "Requirement already satisfied: rich>=11.1.0 in c:\\users\\tom\\appdata\\local\\programs\\python\\python312\\lib\\site-packages (from tyro>=0.5.11->trl==0.8.6) (14.0.0)\n",
      "Requirement already satisfied: shtab>=1.5.6 in c:\\users\\tom\\appdata\\local\\programs\\python\\python312\\lib\\site-packages (from tyro>=0.5.11->trl==0.8.6) (1.7.2)\n",
      "Requirement already satisfied: typeguard>=4.0.0 in c:\\users\\tom\\appdata\\local\\programs\\python\\python312\\lib\\site-packages (from tyro>=0.5.11->trl==0.8.6) (4.4.4)\n",
      "Requirement already satisfied: pyarrow>=8.0.0 in c:\\users\\tom\\appdata\\local\\programs\\python\\python312\\lib\\site-packages (from datasets->trl==0.8.6) (20.0.0)\n",
      "Requirement already satisfied: pyarrow-hotfix in c:\\users\\tom\\appdata\\local\\programs\\python\\python312\\lib\\site-packages (from datasets->trl==0.8.6) (0.7)\n",
      "Requirement already satisfied: dill<0.3.8,>=0.3.0 in c:\\users\\tom\\appdata\\local\\programs\\python\\python312\\lib\\site-packages (from datasets->trl==0.8.6) (0.3.7)\n",
      "Requirement already satisfied: pandas in c:\\users\\tom\\appdata\\local\\programs\\python\\python312\\lib\\site-packages (from datasets->trl==0.8.6) (2.3.0)\n",
      "Requirement already satisfied: xxhash in c:\\users\\tom\\appdata\\local\\programs\\python\\python312\\lib\\site-packages (from datasets->trl==0.8.6) (3.5.0)\n",
      "Requirement already satisfied: multiprocess in c:\\users\\tom\\appdata\\local\\programs\\python\\python312\\lib\\site-packages (from datasets->trl==0.8.6) (0.70.15)\n",
      "Requirement already satisfied: aiohttp in c:\\users\\tom\\appdata\\local\\programs\\python\\python312\\lib\\site-packages (from datasets->trl==0.8.6) (3.12.14)\n",
      "Requirement already satisfied: charset_normalizer<4,>=2 in c:\\users\\tom\\appdata\\local\\programs\\python\\python312\\lib\\site-packages (from requests->transformers) (3.4.2)\n",
      "Requirement already satisfied: idna<4,>=2.5 in c:\\users\\tom\\appdata\\local\\programs\\python\\python312\\lib\\site-packages (from requests->transformers) (3.10)\n",
      "Requirement already satisfied: urllib3<3,>=1.21.1 in c:\\users\\tom\\appdata\\local\\programs\\python\\python312\\lib\\site-packages (from requests->transformers) (2.4.0)\n",
      "Requirement already satisfied: certifi>=2017.4.17 in c:\\users\\tom\\appdata\\local\\programs\\python\\python312\\lib\\site-packages (from requests->transformers) (2025.4.26)\n",
      "Requirement already satisfied: aiohappyeyeballs>=2.5.0 in c:\\users\\tom\\appdata\\local\\programs\\python\\python312\\lib\\site-packages (from aiohttp->datasets->trl==0.8.6) (2.6.1)\n",
      "Requirement already satisfied: aiosignal>=1.4.0 in c:\\users\\tom\\appdata\\local\\programs\\python\\python312\\lib\\site-packages (from aiohttp->datasets->trl==0.8.6) (1.4.0)\n",
      "Requirement already satisfied: attrs>=17.3.0 in c:\\users\\tom\\appdata\\local\\programs\\python\\python312\\lib\\site-packages (from aiohttp->datasets->trl==0.8.6) (25.3.0)\n",
      "Requirement already satisfied: frozenlist>=1.1.1 in c:\\users\\tom\\appdata\\local\\programs\\python\\python312\\lib\\site-packages (from aiohttp->datasets->trl==0.8.6) (1.7.0)\n",
      "Requirement already satisfied: multidict<7.0,>=4.5 in c:\\users\\tom\\appdata\\local\\programs\\python\\python312\\lib\\site-packages (from aiohttp->datasets->trl==0.8.6) (6.6.3)\n",
      "Requirement already satisfied: propcache>=0.2.0 in c:\\users\\tom\\appdata\\local\\programs\\python\\python312\\lib\\site-packages (from aiohttp->datasets->trl==0.8.6) (0.3.2)\n",
      "Requirement already satisfied: yarl<2.0,>=1.17.0 in c:\\users\\tom\\appdata\\local\\programs\\python\\python312\\lib\\site-packages (from aiohttp->datasets->trl==0.8.6) (1.20.1)\n",
      "Requirement already satisfied: markdown-it-py>=2.2.0 in c:\\users\\tom\\appdata\\local\\programs\\python\\python312\\lib\\site-packages (from rich>=11.1.0->tyro>=0.5.11->trl==0.8.6) (3.0.0)\n",
      "Requirement already satisfied: pygments<3.0.0,>=2.13.0 in c:\\users\\tom\\appdata\\roaming\\python\\python312\\site-packages (from rich>=11.1.0->tyro>=0.5.11->trl==0.8.6) (2.19.2)\n",
      "Requirement already satisfied: MarkupSafe>=2.0 in c:\\users\\tom\\appdata\\local\\programs\\python\\python312\\lib\\site-packages (from jinja2->torch>=1.4.0->trl==0.8.6) (3.0.2)\n",
      "Requirement already satisfied: python-dateutil>=2.8.2 in c:\\users\\tom\\appdata\\local\\programs\\python\\python312\\lib\\site-packages (from pandas->datasets->trl==0.8.6) (2.9.0.post0)\n",
      "Requirement already satisfied: pytz>=2020.1 in c:\\users\\tom\\appdata\\local\\programs\\python\\python312\\lib\\site-packages (from pandas->datasets->trl==0.8.6) (2025.2)\n",
      "Requirement already satisfied: tzdata>=2022.7 in c:\\users\\tom\\appdata\\local\\programs\\python\\python312\\lib\\site-packages (from pandas->datasets->trl==0.8.6) (2025.2)\n",
      "Requirement already satisfied: mdurl~=0.1 in c:\\users\\tom\\appdata\\local\\programs\\python\\python312\\lib\\site-packages (from markdown-it-py>=2.2.0->rich>=11.1.0->tyro>=0.5.11->trl==0.8.6) (0.1.2)\n",
      "Requirement already satisfied: six>=1.5 in c:\\users\\tom\\appdata\\local\\programs\\python\\python312\\lib\\site-packages (from python-dateutil>=2.8.2->pandas->datasets->trl==0.8.6) (1.17.0)\n"
     ]
    },
    {
     "name": "stderr",
     "output_type": "stream",
     "text": [
      "\n",
      "[notice] A new release of pip is available: 24.3.1 -> 25.1.1\n",
      "[notice] To update, run: python.exe -m pip install --upgrade pip\n",
      "\n",
      "[notice] A new release of pip is available: 24.3.1 -> 25.1.1\n",
      "[notice] To update, run: python.exe -m pip install --upgrade pip\n"
     ]
    }
   ],
   "source": [
    "!pip install -U trl==0.8.6 transformers accelerate==0.32.0 peft\n",
    "!pip install -q datasets==2.15.0 bitsandbytes einops wandb"
   ]
  },
  {
   "cell_type": "code",
   "execution_count": null,
   "id": "9f748929",
   "metadata": {},
   "outputs": [],
   "source": [
    "!pip uninstall -y torch torchvision torchaudio\n",
    "!pip install torch torchvision torchaudio --index-url https://download.pytorch.org/whl/cu121"
   ]
  },
  {
   "cell_type": "code",
   "execution_count": null,
   "id": "bbe4351b",
   "metadata": {},
   "outputs": [],
   "source": [
    "pip install -U bitsandbytes"
   ]
  },
  {
   "cell_type": "code",
   "execution_count": 11,
   "id": "d33308af",
   "metadata": {},
   "outputs": [],
   "source": [
    "!pip freeze > requirements.txt"
   ]
  },
  {
   "cell_type": "code",
   "execution_count": 5,
   "id": "d642b66a",
   "metadata": {},
   "outputs": [],
   "source": [
    "from datasets import load_dataset\n",
    "\n",
    "#dataset_name = \"timdettmers/openassistant-guanaco\" ###Human ,.,,,,,, ###Assistant\n",
    "\n",
    "dataset_name = 'chil728/cie_exams'\n",
    "dataset = load_dataset(dataset_name, split=\"train\")"
   ]
  },
  {
   "cell_type": "code",
   "execution_count": null,
   "id": "008bf269",
   "metadata": {},
   "outputs": [],
   "source": [
    "dataset"
   ]
  },
  {
   "cell_type": "code",
   "execution_count": null,
   "id": "d69fda65",
   "metadata": {},
   "outputs": [],
   "source": [
    "#Custom formatting function(equivalent to the dataset_text_field=\"title\")\n",
    "def text_formatting_func(sample):\n",
    "    return sample[\"title\"]"
   ]
  },
  {
   "cell_type": "code",
   "execution_count": 14,
   "id": "0e57e531",
   "metadata": {},
   "outputs": [
    {
     "name": "stderr",
     "output_type": "stream",
     "text": [
      "Unrecognized keys in `rope_scaling` for 'rope_type'='yarn': {'attn_factor'}\n",
      "Loading checkpoint shards: 100%|██████████| 2/2 [00:00<00:00, 159.22it/s]\n",
      "WARNING:root:Some parameters are on the meta device device because they were offloaded to the cpu and disk.\n"
     ]
    }
   ],
   "source": [
    "import torch\n",
    "from transformers import AutoModelForCausalLM, AutoTokenizer, BitsAndBytesConfig, AutoTokenizer\n",
    "\n",
    "model_name = \"deepseek-ai/DeepSeek-R1-0528-Qwen3-8B\"\n",
    "\n",
    "bnb_config = BitsAndBytesConfig(\n",
    "    load_in_4bit=True,  \n",
    "    bnb_4bit_quant_type=\"nf4\",\n",
    "    bnb_4bit_compute_dtype=torch.bfloat16,\n",
    ")\n",
    "\n",
    "model = AutoModelForCausalLM.from_pretrained(\n",
    "    model_name,\n",
    "    device_map=\"auto\",\n",
    "    torch_dtype=torch.bfloat16\n",
    ")\n",
    "model.config.use_cache = False"
   ]
  },
  {
   "cell_type": "code",
   "execution_count": 15,
   "id": "3df49708",
   "metadata": {},
   "outputs": [],
   "source": [
    "tokenizer = AutoTokenizer.from_pretrained(model_name, trust_remote_code=True)\n",
    "tokenizer.pad_token = tokenizer.eos_token"
   ]
  },
  {
   "cell_type": "code",
   "execution_count": 16,
   "id": "772aa628",
   "metadata": {},
   "outputs": [
    {
     "ename": "ImportError",
     "evalue": "cannot import name 'clear_device_cache' from 'accelerate.utils.memory' (c:\\Users\\Tom\\AppData\\Local\\Programs\\Python\\Python312\\Lib\\site-packages\\accelerate\\utils\\memory.py)",
     "output_type": "error",
     "traceback": [
      "\u001b[31m---------------------------------------------------------------------------\u001b[39m",
      "\u001b[31mImportError\u001b[39m                               Traceback (most recent call last)",
      "\u001b[36mCell\u001b[39m\u001b[36m \u001b[39m\u001b[32mIn[16]\u001b[39m\u001b[32m, line 1\u001b[39m\n\u001b[32m----> \u001b[39m\u001b[32m1\u001b[39m \u001b[38;5;28;01mfrom\u001b[39;00m\u001b[38;5;250m \u001b[39m\u001b[34;01mpeft\u001b[39;00m\u001b[38;5;250m \u001b[39m\u001b[38;5;28;01mimport\u001b[39;00m LoraConfig, get_peft_model\n\u001b[32m      3\u001b[39m lora_alpha = \u001b[32m32\u001b[39m\n\u001b[32m      4\u001b[39m lora_dropout = \u001b[32m0.05\u001b[39m\n",
      "\u001b[36mFile \u001b[39m\u001b[32mc:\\Users\\Tom\\AppData\\Local\\Programs\\Python\\Python312\\Lib\\site-packages\\peft\\__init__.py:17\u001b[39m\n\u001b[32m      1\u001b[39m \u001b[38;5;66;03m# Copyright 2023-present the HuggingFace Inc. team.\u001b[39;00m\n\u001b[32m      2\u001b[39m \u001b[38;5;66;03m#\u001b[39;00m\n\u001b[32m      3\u001b[39m \u001b[38;5;66;03m# Licensed under the Apache License, Version 2.0 (the \"License\");\u001b[39;00m\n\u001b[32m   (...)\u001b[39m\u001b[32m     12\u001b[39m \u001b[38;5;66;03m# See the License for the specific language governing permissions and\u001b[39;00m\n\u001b[32m     13\u001b[39m \u001b[38;5;66;03m# limitations under the License.\u001b[39;00m\n\u001b[32m     15\u001b[39m __version__ = \u001b[33m\"\u001b[39m\u001b[33m0.16.0\u001b[39m\u001b[33m\"\u001b[39m\n\u001b[32m---> \u001b[39m\u001b[32m17\u001b[39m \u001b[38;5;28;01mfrom\u001b[39;00m\u001b[38;5;250m \u001b[39m\u001b[34;01m.\u001b[39;00m\u001b[34;01mauto\u001b[39;00m\u001b[38;5;250m \u001b[39m\u001b[38;5;28;01mimport\u001b[39;00m (\n\u001b[32m     18\u001b[39m     MODEL_TYPE_TO_PEFT_MODEL_MAPPING,\n\u001b[32m     19\u001b[39m     AutoPeftModel,\n\u001b[32m     20\u001b[39m     AutoPeftModelForCausalLM,\n\u001b[32m     21\u001b[39m     AutoPeftModelForFeatureExtraction,\n\u001b[32m     22\u001b[39m     AutoPeftModelForQuestionAnswering,\n\u001b[32m     23\u001b[39m     AutoPeftModelForSeq2SeqLM,\n\u001b[32m     24\u001b[39m     AutoPeftModelForSequenceClassification,\n\u001b[32m     25\u001b[39m     AutoPeftModelForTokenClassification,\n\u001b[32m     26\u001b[39m )\n\u001b[32m     27\u001b[39m \u001b[38;5;28;01mfrom\u001b[39;00m\u001b[38;5;250m \u001b[39m\u001b[34;01m.\u001b[39;00m\u001b[34;01mconfig\u001b[39;00m\u001b[38;5;250m \u001b[39m\u001b[38;5;28;01mimport\u001b[39;00m PeftConfig, PromptLearningConfig\n\u001b[32m     28\u001b[39m \u001b[38;5;28;01mfrom\u001b[39;00m\u001b[38;5;250m \u001b[39m\u001b[34;01m.\u001b[39;00m\u001b[34;01mmapping\u001b[39;00m\u001b[38;5;250m \u001b[39m\u001b[38;5;28;01mimport\u001b[39;00m (\n\u001b[32m     29\u001b[39m     PEFT_TYPE_TO_CONFIG_MAPPING,\n\u001b[32m     30\u001b[39m     PEFT_TYPE_TO_MIXED_MODEL_MAPPING,\n\u001b[32m   (...)\u001b[39m\u001b[32m     33\u001b[39m     inject_adapter_in_model,\n\u001b[32m     34\u001b[39m )\n",
      "\u001b[36mFile \u001b[39m\u001b[32mc:\\Users\\Tom\\AppData\\Local\\Programs\\Python\\Python312\\Lib\\site-packages\\peft\\auto.py:31\u001b[39m\n\u001b[32m     19\u001b[39m \u001b[38;5;28;01mfrom\u001b[39;00m\u001b[38;5;250m \u001b[39m\u001b[34;01mtyping\u001b[39;00m\u001b[38;5;250m \u001b[39m\u001b[38;5;28;01mimport\u001b[39;00m Optional\n\u001b[32m     21\u001b[39m \u001b[38;5;28;01mfrom\u001b[39;00m\u001b[38;5;250m \u001b[39m\u001b[34;01mtransformers\u001b[39;00m\u001b[38;5;250m \u001b[39m\u001b[38;5;28;01mimport\u001b[39;00m (\n\u001b[32m     22\u001b[39m     AutoModel,\n\u001b[32m     23\u001b[39m     AutoModelForCausalLM,\n\u001b[32m   (...)\u001b[39m\u001b[32m     28\u001b[39m     AutoTokenizer,\n\u001b[32m     29\u001b[39m )\n\u001b[32m---> \u001b[39m\u001b[32m31\u001b[39m \u001b[38;5;28;01mfrom\u001b[39;00m\u001b[38;5;250m \u001b[39m\u001b[34;01m.\u001b[39;00m\u001b[34;01mconfig\u001b[39;00m\u001b[38;5;250m \u001b[39m\u001b[38;5;28;01mimport\u001b[39;00m PeftConfig\n\u001b[32m     32\u001b[39m \u001b[38;5;28;01mfrom\u001b[39;00m\u001b[38;5;250m \u001b[39m\u001b[34;01m.\u001b[39;00m\u001b[34;01mpeft_model\u001b[39;00m\u001b[38;5;250m \u001b[39m\u001b[38;5;28;01mimport\u001b[39;00m (\n\u001b[32m     33\u001b[39m     PeftModel,\n\u001b[32m     34\u001b[39m     PeftModelForCausalLM,\n\u001b[32m   (...)\u001b[39m\u001b[32m     39\u001b[39m     PeftModelForTokenClassification,\n\u001b[32m     40\u001b[39m )\n\u001b[32m     41\u001b[39m \u001b[38;5;28;01mfrom\u001b[39;00m\u001b[38;5;250m \u001b[39m\u001b[34;01m.\u001b[39;00m\u001b[34;01mutils\u001b[39;00m\u001b[34;01m.\u001b[39;00m\u001b[34;01mconstants\u001b[39;00m\u001b[38;5;250m \u001b[39m\u001b[38;5;28;01mimport\u001b[39;00m TOKENIZER_CONFIG_NAME\n",
      "\u001b[36mFile \u001b[39m\u001b[32mc:\\Users\\Tom\\AppData\\Local\\Programs\\Python\\Python312\\Lib\\site-packages\\peft\\config.py:24\u001b[39m\n\u001b[32m     21\u001b[39m \u001b[38;5;28;01mfrom\u001b[39;00m\u001b[38;5;250m \u001b[39m\u001b[34;01mhuggingface_hub\u001b[39;00m\u001b[38;5;250m \u001b[39m\u001b[38;5;28;01mimport\u001b[39;00m hf_hub_download\n\u001b[32m     22\u001b[39m \u001b[38;5;28;01mfrom\u001b[39;00m\u001b[38;5;250m \u001b[39m\u001b[34;01mtransformers\u001b[39;00m\u001b[34;01m.\u001b[39;00m\u001b[34;01mutils\u001b[39;00m\u001b[38;5;250m \u001b[39m\u001b[38;5;28;01mimport\u001b[39;00m PushToHubMixin, http_user_agent\n\u001b[32m---> \u001b[39m\u001b[32m24\u001b[39m \u001b[38;5;28;01mfrom\u001b[39;00m\u001b[38;5;250m \u001b[39m\u001b[34;01m.\u001b[39;00m\u001b[34;01mutils\u001b[39;00m\u001b[38;5;250m \u001b[39m\u001b[38;5;28;01mimport\u001b[39;00m CONFIG_NAME, PeftType, TaskType\n\u001b[32m     27\u001b[39m \u001b[38;5;66;03m# we expect at least these keys to be present in a PEFT adapter_config.json\u001b[39;00m\n\u001b[32m     28\u001b[39m MIN_EXPECTED_CONFIG_KEYS = {\u001b[33m\"\u001b[39m\u001b[33mpeft_type\u001b[39m\u001b[33m\"\u001b[39m}\n",
      "\u001b[36mFile \u001b[39m\u001b[32mc:\\Users\\Tom\\AppData\\Local\\Programs\\Python\\Python312\\Lib\\site-packages\\peft\\utils\\__init__.py:16\u001b[39m\n\u001b[32m      1\u001b[39m \u001b[38;5;66;03m# Copyright 2023-present the HuggingFace Inc. team.\u001b[39;00m\n\u001b[32m      2\u001b[39m \u001b[38;5;66;03m#\u001b[39;00m\n\u001b[32m      3\u001b[39m \u001b[38;5;66;03m# Licensed under the Apache License, Version 2.0 (the \"License\");\u001b[39;00m\n\u001b[32m   (...)\u001b[39m\u001b[32m     12\u001b[39m \u001b[38;5;66;03m# See the License for the specific language governing permissions and\u001b[39;00m\n\u001b[32m     13\u001b[39m \u001b[38;5;66;03m# limitations under the License.\u001b[39;00m\n\u001b[32m     15\u001b[39m \u001b[38;5;28;01mfrom\u001b[39;00m\u001b[38;5;250m \u001b[39m\u001b[34;01m.\u001b[39;00m\u001b[34;01mintegrations\u001b[39;00m\u001b[38;5;250m \u001b[39m\u001b[38;5;28;01mimport\u001b[39;00m map_cache_to_layer_device_map\n\u001b[32m---> \u001b[39m\u001b[32m16\u001b[39m \u001b[38;5;28;01mfrom\u001b[39;00m\u001b[38;5;250m \u001b[39m\u001b[34;01m.\u001b[39;00m\u001b[34;01mloftq_utils\u001b[39;00m\u001b[38;5;250m \u001b[39m\u001b[38;5;28;01mimport\u001b[39;00m replace_lora_weights_loftq\n\u001b[32m     17\u001b[39m \u001b[38;5;28;01mfrom\u001b[39;00m\u001b[38;5;250m \u001b[39m\u001b[34;01m.\u001b[39;00m\u001b[34;01mother\u001b[39;00m\u001b[38;5;250m \u001b[39m\u001b[38;5;28;01mimport\u001b[39;00m (\n\u001b[32m     18\u001b[39m     CONFIG_NAME,\n\u001b[32m     19\u001b[39m     INCLUDE_LINEAR_LAYERS_SHORTHAND,\n\u001b[32m   (...)\u001b[39m\u001b[32m     53\u001b[39m     transpose,\n\u001b[32m     54\u001b[39m )\n\u001b[32m     55\u001b[39m \u001b[38;5;28;01mfrom\u001b[39;00m\u001b[38;5;250m \u001b[39m\u001b[34;01m.\u001b[39;00m\u001b[34;01mpeft_types\u001b[39;00m\u001b[38;5;250m \u001b[39m\u001b[38;5;28;01mimport\u001b[39;00m PeftType, TaskType, register_peft_method\n",
      "\u001b[36mFile \u001b[39m\u001b[32mc:\\Users\\Tom\\AppData\\Local\\Programs\\Python\\Python312\\Lib\\site-packages\\peft\\utils\\loftq_utils.py:25\u001b[39m\n\u001b[32m     22\u001b[39m \u001b[38;5;28;01mfrom\u001b[39;00m\u001b[38;5;250m \u001b[39m\u001b[34;01mtyping\u001b[39;00m\u001b[38;5;250m \u001b[39m\u001b[38;5;28;01mimport\u001b[39;00m Callable, Optional, Union\n\u001b[32m     24\u001b[39m \u001b[38;5;28;01mimport\u001b[39;00m\u001b[38;5;250m \u001b[39m\u001b[34;01mtorch\u001b[39;00m\n\u001b[32m---> \u001b[39m\u001b[32m25\u001b[39m \u001b[38;5;28;01mfrom\u001b[39;00m\u001b[38;5;250m \u001b[39m\u001b[34;01maccelerate\u001b[39;00m\u001b[34;01m.\u001b[39;00m\u001b[34;01mutils\u001b[39;00m\u001b[34;01m.\u001b[39;00m\u001b[34;01mmemory\u001b[39;00m\u001b[38;5;250m \u001b[39m\u001b[38;5;28;01mimport\u001b[39;00m clear_device_cache\n\u001b[32m     26\u001b[39m \u001b[38;5;28;01mfrom\u001b[39;00m\u001b[38;5;250m \u001b[39m\u001b[34;01mhuggingface_hub\u001b[39;00m\u001b[38;5;250m \u001b[39m\u001b[38;5;28;01mimport\u001b[39;00m snapshot_download\n\u001b[32m     27\u001b[39m \u001b[38;5;28;01mfrom\u001b[39;00m\u001b[38;5;250m \u001b[39m\u001b[34;01mhuggingface_hub\u001b[39;00m\u001b[34;01m.\u001b[39;00m\u001b[34;01merrors\u001b[39;00m\u001b[38;5;250m \u001b[39m\u001b[38;5;28;01mimport\u001b[39;00m HFValidationError, LocalEntryNotFoundError\n",
      "\u001b[31mImportError\u001b[39m: cannot import name 'clear_device_cache' from 'accelerate.utils.memory' (c:\\Users\\Tom\\AppData\\Local\\Programs\\Python\\Python312\\Lib\\site-packages\\accelerate\\utils\\memory.py)"
     ]
    }
   ],
   "source": [
    "from peft import LoraConfig, get_peft_model\n",
    "\n",
    "lora_alpha = 32\n",
    "lora_dropout = 0.05\n",
    "lora_r = 8\n",
    "\n",
    "peft_config = LoraConfig(\n",
    "    lora_alpha=lora_alpha,\n",
    "    lora_dropout=lora_dropout,\n",
    "    r=lora_r,\n",
    "    bias=\"none\",\n",
    "    task_type=\"CAUSAL_LM\"\n",
    ")"
   ]
  },
  {
   "cell_type": "code",
   "execution_count": null,
   "id": "fbd00d93",
   "metadata": {},
   "outputs": [],
   "source": [
    "from transformers import TrainingArguments\n",
    "\n",
    "output_dir = \"./results\"\n",
    "per_device_train_batch_size = 4\n",
    "gradient_accumulation_steps = 4\n",
    "optim = \"paged_adamw_32bit\"\n",
    "save_steps = 100\n",
    "logging_steps = 10\n",
    "learning_rate = 2e-4\n",
    "max_grad_norm = 0.3\n",
    "max_steps = 100\n",
    "warmup_ratio = 0.03\n",
    "lr_scheduler_type = \"constant\"\n",
    "\n",
    "training_arguments = TrainingArguments(\n",
    "    output_dir=output_dir,\n",
    "    per_device_train_batch_size=per_device_train_batch_size,\n",
    "    gradient_accumulation_steps=gradient_accumulation_steps,\n",
    "    optim=optim,\n",
    "    save_steps=save_steps,\n",
    "    logging_steps=logging_steps,\n",
    "    learning_rate=learning_rate,\n",
    "    fp16=True,\n",
    "    max_grad_norm=max_grad_norm,\n",
    "    max_steps=max_steps,\n",
    "    warmup_ratio=warmup_ratio,\n",
    "    group_by_length=True,\n",
    "    lr_scheduler_type=lr_scheduler_type,\n",
    ")"
   ]
  },
  {
   "cell_type": "code",
   "execution_count": null,
   "id": "ba0ba00b",
   "metadata": {},
   "outputs": [],
   "source": [
    "from trl import SFTTrainer\n",
    "\n",
    "max_seq_length = 512\n",
    "\n",
    "trainer = SFTTrainer(\n",
    "    model=model,\n",
    "    train_dataset=dataset,\n",
    "    formatting_func=text_formatting_func, #This should match the key of the 'prompt' from the training set. This func define at the top. \n",
    "    peft_config=peft_config,\n",
    "    args=training_arguments,\n",
    ")"
   ]
  },
  {
   "cell_type": "code",
   "execution_count": null,
   "id": "210bda54",
   "metadata": {},
   "outputs": [],
   "source": [
    "for name, module in trainer.model.named_modules():\n",
    "    if \"norm\" in name:\n",
    "        module = module.to(torch.bfloat32)"
   ]
  },
  {
   "cell_type": "code",
   "execution_count": null,
   "id": "293079da",
   "metadata": {},
   "outputs": [],
   "source": [
    "trainer.train()"
   ]
  },
  {
   "cell_type": "code",
   "execution_count": null,
   "id": "56e5db5f",
   "metadata": {},
   "outputs": [],
   "source": [
    "model_to_save = trainer.model.module if hasattr(trainer.model, 'module') else trainer.model  # Take care of distributed/parallel training\n",
    "model_to_save.save_pretrained(\"outputs\")"
   ]
  },
  {
   "cell_type": "code",
   "execution_count": null,
   "id": "afba9c95",
   "metadata": {},
   "outputs": [],
   "source": [
    "lora_config = LoraConfig.from_pretrained('outputs')\n",
    "model = get_peft_model(model, lora_config)"
   ]
  },
  {
   "cell_type": "code",
   "execution_count": null,
   "id": "e04c6228",
   "metadata": {},
   "outputs": [],
   "source": [
    "dataset['text']"
   ]
  },
  {
   "cell_type": "code",
   "execution_count": null,
   "id": "95494eec",
   "metadata": {},
   "outputs": [],
   "source": [
    "text = \"Écrire un texte dans un style baroque sur la glace et le feu ### Assistant: Si j'en luis éton\"\n",
    "device = \"cuda:0\"\n",
    "\n",
    "inputs = tokenizer(text, return_tensors=\"pt\").to(device)\n",
    "outputs = model.generate(**inputs, max_new_tokens=50)\n",
    "print(tokenizer.decode(outputs[0], skip_special_tokens=True))"
   ]
  }
 ],
 "metadata": {
  "kernelspec": {
   "display_name": "Python 3",
   "language": "python",
   "name": "python3"
  },
  "language_info": {
   "codemirror_mode": {
    "name": "ipython",
    "version": 3
   },
   "file_extension": ".py",
   "mimetype": "text/x-python",
   "name": "python",
   "nbconvert_exporter": "python",
   "pygments_lexer": "ipython3",
   "version": "3.12.8"
  }
 },
 "nbformat": 4,
 "nbformat_minor": 5
}
